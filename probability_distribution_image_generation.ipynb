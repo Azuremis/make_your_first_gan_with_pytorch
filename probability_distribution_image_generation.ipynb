{
  "nbformat": 4,
  "nbformat_minor": 0,
  "metadata": {
    "colab": {
      "name": "probability_distribution_image_generation.ipynb",
      "provenance": [],
      "authorship_tag": "ABX9TyPIxxTRorivGZ2Vi9xoVhxW",
      "include_colab_link": true
    },
    "kernelspec": {
      "name": "python3",
      "display_name": "Python 3"
    }
  },
  "cells": [
    {
      "cell_type": "markdown",
      "metadata": {
        "id": "view-in-github",
        "colab_type": "text"
      },
      "source": [
        "<a href=\"https://colab.research.google.com/github/Azuremis/make_your_first_gan_with_pytorch/blob/master/probability_distribution_image_generation.ipynb\" target=\"_parent\"><img src=\"https://colab.research.google.com/assets/colab-badge.svg\" alt=\"Open In Colab\"/></a>"
      ]
    },
    {
      "cell_type": "markdown",
      "metadata": {
        "id": "uTrcUXViX4O0"
      },
      "source": [
        "Generating images from a probability distribution"
      ]
    },
    {
      "cell_type": "code",
      "metadata": {
        "id": "1szxtpAeXlga"
      },
      "source": [
        "import random\n",
        "import numpy as np\n",
        "import matplotlib.pyplot as plt"
      ],
      "execution_count": 1,
      "outputs": []
    },
    {
      "cell_type": "markdown",
      "metadata": {
        "id": "CL4fScOOYEl5"
      },
      "source": [
        "Counts to represent observed pixels in a dataset"
      ]
    },
    {
      "cell_type": "code",
      "metadata": {
        "colab": {
          "base_uri": "https://localhost:8080/",
          "height": 287
        },
        "id": "b43rmBaAYCJp",
        "outputId": "fa363a8b-a73b-44de-9f24-ee513e0bf1ef"
      },
      "source": [
        "# 8 exapmles in dataset lead to below counts\n",
        "\n",
        "counts = np.array([[6, 0, 1],\n",
        "                   [0, 7, 0],\n",
        "                   [2, 0, 1]], dtype=float)\n",
        "\n",
        "plt.imshow(counts, cmap=\"Reds\", interpolation=None)"
      ],
      "execution_count": 2,
      "outputs": [
        {
          "output_type": "execute_result",
          "data": {
            "text/plain": [
              "<matplotlib.image.AxesImage at 0x7fbb5865d518>"
            ]
          },
          "metadata": {
            "tags": []
          },
          "execution_count": 2
        },
        {
          "output_type": "display_data",
          "data": {
            "image/png": "[encoded data removed]",
            "text/plain": [
              "<Figure size 432x288 with 1 Axes>"
            ]
          },
          "metadata": {
            "tags": [],
            "needs_background": "light"
          }
        }
      ]
    },
    {
      "cell_type": "markdown",
      "metadata": {
        "id": "0uHrMOzDYrsV"
      },
      "source": [
        "Create probabilities from counts"
      ]
    },
    {
      "cell_type": "code",
      "metadata": {
        "colab": {
          "base_uri": "https://localhost:8080/"
        },
        "id": "_Hg4Xtv1YonQ",
        "outputId": "242c2f3b-6cf8-4996-cf6c-ec720144924b"
      },
      "source": [
        "total_examples = 8\n",
        "probabilities = counts / total_examples\n",
        "\n",
        "probabilities"
      ],
      "execution_count": 3,
      "outputs": [
        {
          "output_type": "execute_result",
          "data": {
            "text/plain": [
              "array([[0.75 , 0.   , 0.125],\n",
              "       [0.   , 0.875, 0.   ],\n",
              "       [0.25 , 0.   , 0.125]])"
            ]
          },
          "metadata": {
            "tags": []
          },
          "execution_count": 3
        }
      ]
    },
    {
      "cell_type": "markdown",
      "metadata": {
        "id": "j3XxNh23ZDw1"
      },
      "source": [
        "Make binary image (0s and 1s) based on probability"
      ]
    },
    {
      "cell_type": "code",
      "metadata": {
        "colab": {
          "base_uri": "https://localhost:8080/",
          "height": 287
        },
        "id": "IT4r5EekY6Uy",
        "outputId": "a06b6a28-4cc1-462e-fee2-5de2e169dc31"
      },
      "source": [
        "# make image data\n",
        "def binary_image():\n",
        "    r = np.random.uniform(size=(3, 3))\n",
        "    image = np.ceil(probabilities - r)\n",
        "\n",
        "    return image\n",
        "\n",
        "plt.imshow(binary_image(), cmap=\"Blues\", interpolation=None)"
      ],
      "execution_count": 4,
      "outputs": [
        {
          "output_type": "execute_result",
          "data": {
            "text/plain": [
              "<matplotlib.image.AxesImage at 0x7fbb58197518>"
            ]
          },
          "metadata": {
            "tags": []
          },
          "execution_count": 4
        },
        {
          "output_type": "display_data",
          "data": {
            "image/png": "[encoded data removed]",
            "text/plain": [
              "<Figure size 432x288 with 1 Axes>"
            ]
          },
          "metadata": {
            "tags": [],
            "needs_background": "light"
          }
        }
      ]
    },
    {
      "cell_type": "markdown",
      "metadata": {
        "id": "jM4DxKTXaFEb"
      },
      "source": [
        "Plot several samples of binary_image generation process"
      ]
    },
    {
      "cell_type": "code",
      "metadata": {
        "colab": {
          "base_uri": "https://localhost:8080/",
          "height": 432
        },
        "id": "XTpfIhR-Zx8y",
        "outputId": "7052f2a8-f367-41b5-f9ae-af2e5693f7ea"
      },
      "source": [
        "# plot a 6 column, 4 row array of images\n",
        "\n",
        "f, axarr = plt.subplots(4, 6, figsize=(12, 8))\n",
        "\n",
        "for i in range(4):\n",
        "    for j in range(6):\n",
        "        img = binary_image()\n",
        "        axarr[i, j].set_xticks([])\n",
        "        axarr[i, j].set_yticks([])\n",
        "        axarr[i, j].imshow(img, cmap=\"Blues\", interpolation=None)"
      ],
      "execution_count": 6,
      "outputs": [
        {
          "output_type": "display_data",
          "data": {
            "image/png": "[encoded data removed]",
            "text/plain": [
              "<Figure size 864x576 with 24 Axes>"
            ]
          },
          "metadata": {
            "tags": []
          }
        }
      ]
    },
    {
      "cell_type": "code",
      "metadata": {
        "id": "QHLo-WqIgNnJ"
      },
      "source": [
        ""
      ],
      "execution_count": null,
      "outputs": []
    }
  ]
}