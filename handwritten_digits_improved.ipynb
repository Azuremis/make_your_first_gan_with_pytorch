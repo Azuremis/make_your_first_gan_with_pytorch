{
  "nbformat": 4,
  "nbformat_minor": 0,
  "metadata": {
    "colab": {
      "name": "handwritten_digits_improved.ipynb",
      "provenance": [],
      "collapsed_sections": [],
      "authorship_tag": "ABX9TyOp3iAzQmBvwyxdwyltYBZo",
      "include_colab_link": true
    },
    "kernelspec": {
      "name": "python3",
      "display_name": "Python 3"
    }
  },
  "cells": [
    {
      "cell_type": "markdown",
      "metadata": {
        "id": "view-in-github",
        "colab_type": "text"
      },
      "source": [
        "<a href=\"https://colab.research.google.com/github/Azuremis/make_your_first_gan_with_pytorch/blob/master/handwritten_digits_improved.ipynb\" target=\"_parent\"><img src=\"https://colab.research.google.com/assets/colab-badge.svg\" alt=\"Open In Colab\"/></a>"
      ]
    },
    {
      "cell_type": "code",
      "metadata": {
        "id": "mMoyXCHEXXHI",
        "colab": {
          "base_uri": "https://localhost:8080/"
        },
        "outputId": "8c9953fa-6431-4f1f-ff5b-6235890bb72e"
      },
      "source": [
        "# mount drive to read data files\n",
        "from google.colab import drive\n",
        "drive.mount(\"./mount\")"
      ],
      "execution_count": 1,
      "outputs": [
        {
          "output_type": "stream",
          "text": [
            "Mounted at ./mount\n"
          ],
          "name": "stdout"
        }
      ]
    },
    {
      "cell_type": "code",
      "metadata": {
        "id": "aI4YXBd5WKhi"
      },
      "source": [
        "import torch \n",
        "import torch.nn as nn\n",
        "from torch.utils.data import Dataset\n",
        "\n",
        "import random\n",
        "import pandas as pd\n",
        "import numpy as np\n",
        "import matplotlib.pyplot as plt"
      ],
      "execution_count": 2,
      "outputs": []
    },
    {
      "cell_type": "markdown",
      "metadata": {
        "id": "S68nSMrt2_lq"
      },
      "source": [
        "MNIST Dstaset class"
      ]
    },
    {
      "cell_type": "code",
      "metadata": {
        "id": "SYFRNkuxWi79"
      },
      "source": [
        "class MnistDataset(Dataset):\n",
        "  \n",
        "    def __init__(self, csv_file):\n",
        "        self.data_df = pd.read_csv(csv_file, header=None)\n",
        "\n",
        "    def __len__(self):\n",
        "        return len(self.data_df)\n",
        "\n",
        "    def __getitem__(self, index):\n",
        "        # mage target (label)\n",
        "        label = self.data_df.iloc[index, 0]\n",
        "        target = torch.zeros((10))  # create target tensor \n",
        "        target[label] = 1.0  # using one hot encoding\n",
        "\n",
        "        # image data (normalise from 0-255 to 0-1)\n",
        "        image_values = torch.FloatTensor(self.data_df.iloc[index, 1:].values) / 255.0\n",
        "\n",
        "        # return label, image data and target tensor\n",
        "        return label, image_values, target\n",
        "\n",
        "    def plot_image(self, index):\n",
        "        # visualise image from pixels\n",
        "        img_arr = self.data_df.iloc[index, 1:].values.reshape(28, 28) \n",
        "        plt.title(\"Label: \" + str(self.data_df.iloc[index, 0]))\n",
        "        plt.imshow(img_arr, interpolation='none', cmap=\"Blues\")\n",
        "        plt.show()"
      ],
      "execution_count": 3,
      "outputs": []
    },
    {
      "cell_type": "code",
      "metadata": {
        "id": "Alyg0w1hZ-BE"
      },
      "source": [
        "mnist_dataset = MnistDataset('mount/My Drive/Colab Notebooks/make_your_first_gan_with_pytorch/mnist_data/mnist_train.csv')"
      ],
      "execution_count": 4,
      "outputs": []
    },
    {
      "cell_type": "code",
      "metadata": {
        "id": "D6aDh-1eaA1I",
        "colab": {
          "base_uri": "https://localhost:8080/",
          "height": 281
        },
        "outputId": "d113a74e-a2f1-4030-9cdd-f08e7dfdc930"
      },
      "source": [
        "mnist_dataset.plot_image(17)"
      ],
      "execution_count": 5,
      "outputs": [
        {
          "output_type": "display_data",
          "data": {
            "image/png": "[encoded data removed]",
            "text/plain": [
              "<Figure size 432x288 with 1 Axes>"
            ]
          },
          "metadata": {
            "tags": [],
            "needs_background": "light"
          }
        }
      ]
    },
    {
      "cell_type": "markdown",
      "metadata": {
        "id": "OYA7WNmMavX6"
      },
      "source": [
        "MNIST discriminator"
      ]
    },
    {
      "cell_type": "code",
      "metadata": {
        "id": "s5rIS2vXaowl"
      },
      "source": [
        "# set up the discriminator\n",
        "class Discriminator(nn.Module):\n",
        "\n",
        "    def __init__(self):\n",
        "        # initialise parent pytorch class\n",
        "        super().__init__()\n",
        "\n",
        "        # set up nn layers\n",
        "        self.model = nn.Sequential(\n",
        "            nn.Linear(784, 200),\n",
        "            nn.LeakyReLU(0.02),  # reduce vanishing gradient issue for large signal values\n",
        "            nn.LayerNorm(200),  # normalise signals to avoid network saturation from large values\n",
        "            nn.Linear(200, 1),\n",
        "            nn.Sigmoid()\n",
        "        )\n",
        "\n",
        "        # set up loss\n",
        "        self.loss_function = nn.BCELoss()  # BCELoss better for classification tasks\n",
        "\n",
        "        # set up optimiser\n",
        "        self.optimiser = torch.optim.Adam(self.parameters(), lr=0.0001)\n",
        "\n",
        "        # set up progress monitors\n",
        "        self.counter = 0\n",
        "        self.progress = []\n",
        "\n",
        "    def forward(self, inputs):\n",
        "        # just run the model\n",
        "        return self.model(inputs)\n",
        "\n",
        "    def train(self, inputs, targets):\n",
        "        # calculate predictions\n",
        "        outputs = self.forward(inputs)\n",
        "\n",
        "        # calculate loss\n",
        "        loss = self.loss_function(outputs, targets)\n",
        "\n",
        "        # track training progress\n",
        "        self.counter += 1\n",
        "        if self.counter % 10 == 0:\n",
        "            self.progress.append(loss.item())  # accumulate error\n",
        "        if self.counter % 10000 == 0:\n",
        "            print(\"counter = \", self.counter)\n",
        "\n",
        "        # zero gradients\n",
        "        self.optimiser.zero_grad()\n",
        "        # perform backward pass by calcuating gradients\n",
        "        loss.backward()\n",
        "        # update learnable parameters\n",
        "        self.optimiser.step()\n",
        "\n",
        "    def plot_progress(self):\n",
        "\n",
        "        df = pd.DataFrame(self.progress, columns=[\"loss\"])    \n",
        "        df.plot(ylim=(0, 1.0), figsize=(16, 8), alpha=0.1, marker='.',\n",
        "                grid=True, yticks=(0, 0.25, 0.5))\n"
      ],
      "execution_count": 6,
      "outputs": []
    },
    {
      "cell_type": "markdown",
      "metadata": {
        "id": "xnRkONA4bXIo"
      },
      "source": [
        "Testing the discriminator"
      ]
    },
    {
      "cell_type": "code",
      "metadata": {
        "id": "p3HCHyrxbV-M"
      },
      "source": [
        "# generates random noise\n",
        "def generate_random(size):\n",
        "    return torch.rand(size)"
      ],
      "execution_count": 7,
      "outputs": []
    },
    {
      "cell_type": "code",
      "metadata": {
        "id": "lIG9WwINb2MX",
        "colab": {
          "base_uri": "https://localhost:8080/"
        },
        "outputId": "70eab7a4-b6ac-4adb-9ff9-440e1193a939"
      },
      "source": [
        "%%time\n",
        "\n",
        "discrim = Discriminator()\n",
        "\n",
        "for label, image_data_tensor, target_tensor in mnist_dataset:\n",
        "    # train with real data\n",
        "    discrim.train(image_data_tensor, torch.FloatTensor([1.0]))\n",
        "    # train with fake data\n",
        "    discrim.train(generate_random(784), torch.FloatTensor([0.0]))\n"
      ],
      "execution_count": 8,
      "outputs": [
        {
          "output_type": "stream",
          "text": [
            "counter =  10000\n",
            "counter =  20000\n",
            "counter =  30000\n",
            "counter =  40000\n",
            "counter =  50000\n",
            "counter =  60000\n",
            "counter =  70000\n",
            "counter =  80000\n",
            "counter =  90000\n",
            "counter =  100000\n",
            "counter =  110000\n",
            "counter =  120000\n",
            "CPU times: user 4min 46s, sys: 3.53 s, total: 4min 49s\n",
            "Wall time: 4min 50s\n"
          ],
          "name": "stdout"
        }
      ]
    },
    {
      "cell_type": "code",
      "metadata": {
        "id": "rNRQG_BPcRm9",
        "colab": {
          "base_uri": "https://localhost:8080/",
          "height": 483
        },
        "outputId": "c8bd6d6d-9e4b-4ae1-f1f4-998edbac9093"
      },
      "source": [
        "# plot model loss\n",
        "discrim.plot_progress()"
      ],
      "execution_count": 9,
      "outputs": [
        {
          "output_type": "display_data",
          "data": {
            "image/png": "[encoded data removed]",
            "text/plain": [
              "<Figure size 1152x576 with 1 Axes>"
            ]
          },
          "metadata": {
            "tags": [],
            "needs_background": "light"
          }
        }
      ]
    },
    {
      "cell_type": "code",
      "metadata": {
        "id": "TQszgVkUcXgr",
        "colab": {
          "base_uri": "https://localhost:8080/"
        },
        "outputId": "bfb3f8f6-57a6-4efa-b884-49f66342d794"
      },
      "source": [
        "# manual run to check discriminitor is working\n",
        "for i in range(4):\n",
        "    image_data_tensor = mnist_dataset[random.randint(0, 60000)][1]\n",
        "    print(discrim.forward(image_data_tensor).item())\n",
        "\n",
        "for i in range(4):\n",
        "    print(discrim.forward(generate_random(784)).item())\n"
      ],
      "execution_count": 10,
      "outputs": [
        {
          "output_type": "stream",
          "text": [
            "1.0\n",
            "1.0\n",
            "1.0\n",
            "1.0\n",
            "9.045713830757585e-12\n",
            "9.369473079334778e-12\n",
            "9.552520233158113e-12\n",
            "8.588438987766622e-12\n"
          ],
          "name": "stdout"
        }
      ]
    },
    {
      "cell_type": "markdown",
      "metadata": {
        "id": "gju2uf_o7anH"
      },
      "source": [
        "MNIST generator"
      ]
    },
    {
      "cell_type": "code",
      "metadata": {
        "id": "h-AtRtLQ6Ov-"
      },
      "source": [
        "class Generator(nn.Module):\n",
        "    \n",
        "    def __init__(self):\n",
        "        # call parent pytorch class\n",
        "        super().__init__()\n",
        "\n",
        "        # set up layers\n",
        "        self.model = nn.Sequential(\n",
        "            nn.Linear(1, 200),\n",
        "            nn.LeakyReLU(0.02),  \n",
        "            nn.LayerNorm(200),  \n",
        "            nn.Linear(200, 784),\n",
        "            nn.Sigmoid()\n",
        "        )\n",
        "\n",
        "        # set up optimiser\n",
        "        self.optimiser = torch.optim.Adam(self.parameters(), lr=0.0001)\n",
        "\n",
        "        # set up progress tracking\n",
        "        self.counter = 0\n",
        "        self.progress = []\n",
        "\n",
        "    def forward(self, inputs):\n",
        "        return self.model(inputs)\n",
        "\n",
        "    def train(self, discriminator, inputs, targets):\n",
        "        # calculate network outputs, i.e. generate data\n",
        "        generator_output = self.forward(inputs)\n",
        "\n",
        "        # pass generated data to discriminator for classification\n",
        "        discriminator_output = discriminator.forward(generator_output)\n",
        "\n",
        "        # calculate loss using discriminator\n",
        "        loss = discriminator.loss_function(discriminator_output, targets)\n",
        "\n",
        "        # track generator loss\n",
        "        self.counter += 1\n",
        "        if self.counter % 10 == 0:\n",
        "            self.progress.append(loss.item())\n",
        "\n",
        "        # zero gradients\n",
        "        self.optimiser.zero_grad()\n",
        "        # perform backward pass\n",
        "        loss.backward()\n",
        "        # update the parameters\n",
        "        self.optimiser.step()\n",
        "\n",
        "    def plot_progress(self):\n",
        "        df = pd.DataFrame(self.progress, columns=[\"loss\"])\n",
        "        df.plot(ylim=(0, 1.0), figsize=(16, 8), alpha=0.1, marker=\".\",\n",
        "                grid=True, yticks=(0, 0.25, 0.5))"
      ],
      "execution_count": 11,
      "outputs": []
    },
    {
      "cell_type": "markdown",
      "metadata": {
        "id": "3gPmHQekGewx"
      },
      "source": [
        "Checking generator output"
      ]
    },
    {
      "cell_type": "code",
      "metadata": {
        "id": "UK28bsWbGh1q",
        "colab": {
          "base_uri": "https://localhost:8080/",
          "height": 282
        },
        "outputId": "ed55fd3f-11b5-4880-cfef-59ce601763e1"
      },
      "source": [
        "# check that generated data is right type and shape\n",
        "seed = 0.6\n",
        "gener = Generator()\n",
        "output = gener.forward(torch.FloatTensor([seed]))\n",
        "img = output.detach().numpy().reshape(28, 28)\n",
        "plt.imshow(img, interpolation=\"none\", cmap=\"Blues\")"
      ],
      "execution_count": 12,
      "outputs": [
        {
          "output_type": "execute_result",
          "data": {
            "text/plain": [
              "<matplotlib.image.AxesImage at 0x7f90f9cc2390>"
            ]
          },
          "metadata": {
            "tags": []
          },
          "execution_count": 12
        },
        {
          "output_type": "display_data",
          "data": {
            "image/png": "[encoded data removed]",
            "text/plain": [
              "<Figure size 432x288 with 1 Axes>"
            ]
          },
          "metadata": {
            "tags": [],
            "needs_background": "light"
          }
        }
      ]
    },
    {
      "cell_type": "markdown",
      "metadata": {
        "id": "a1WQI0HRUNe1"
      },
      "source": [
        "Training the GAN"
      ]
    },
    {
      "cell_type": "code",
      "metadata": {
        "colab": {
          "base_uri": "https://localhost:8080/"
        },
        "id": "u1PlEWuIUO2L",
        "outputId": "0c62efa3-792b-443c-a557-29be39c7f699"
      },
      "source": [
        "%%time\n",
        "\n",
        "# create discriminator and generator\n",
        "Dis = Discriminator()\n",
        "Gen = Generator()\n",
        "\n",
        "# train discriminator and generator\n",
        "\n",
        "for label, image_data_tensor, target_tensor in mnist_dataset:\n",
        "\n",
        "    # train the discriminator on real data\n",
        "    Dis.train(image_data_tensor, torch.FloatTensor([1.0]))\n",
        "\n",
        "    # train the discriminator on false data, use detach() so gradients in Gen are not calculated\n",
        "    Dis.train(Gen.forward(generate_random(1)).detach(), torch.FloatTensor([0.0]))\n",
        "\n",
        "    # train the generator \n",
        "    Gen.train(Dis, generate_random(1), torch.FloatTensor([1.0]))"
      ],
      "execution_count": 13,
      "outputs": [
        {
          "output_type": "stream",
          "text": [
            "counter =  10000\n",
            "counter =  20000\n",
            "counter =  30000\n",
            "counter =  40000\n",
            "counter =  50000\n",
            "counter =  60000\n",
            "counter =  70000\n",
            "counter =  80000\n",
            "counter =  90000\n",
            "counter =  100000\n",
            "counter =  110000\n",
            "counter =  120000\n",
            "CPU times: user 8min 19s, sys: 6.5 s, total: 8min 25s\n",
            "Wall time: 8min 27s\n"
          ],
          "name": "stdout"
        }
      ]
    },
    {
      "cell_type": "code",
      "metadata": {
        "colab": {
          "base_uri": "https://localhost:8080/",
          "height": 483
        },
        "id": "5keSviAgWdqK",
        "outputId": "43cb9856-cca6-4086-a90e-09c871c1d076"
      },
      "source": [
        "# plot discriminator loss\n",
        "Dis.plot_progress()"
      ],
      "execution_count": 14,
      "outputs": [
        {
          "output_type": "display_data",
          "data": {
            "image/png": "[encoded data removed]",
            "text/plain": [
              "<Figure size 1152x576 with 1 Axes>"
            ]
          },
          "metadata": {
            "tags": [],
            "needs_background": "light"
          }
        }
      ]
    },
    {
      "cell_type": "code",
      "metadata": {
        "colab": {
          "base_uri": "https://localhost:8080/",
          "height": 483
        },
        "id": "fqba6Me7ae45",
        "outputId": "26f208a3-3984-4487-8b5e-6cc9cf642e86"
      },
      "source": [
        "# plot generator loss\n",
        "Gen.plot_progress()"
      ],
      "execution_count": 15,
      "outputs": [
        {
          "output_type": "display_data",
          "data": {
            "image/png": "[encoded data removed]",
            "text/plain": [
              "<Figure size 1152x576 with 1 Axes>"
            ]
          },
          "metadata": {
            "tags": [],
            "needs_background": "light"
          }
        }
      ]
    },
    {
      "cell_type": "markdown",
      "metadata": {
        "id": "CELV9tj0ejI2"
      },
      "source": [
        "Examining generated images"
      ]
    },
    {
      "cell_type": "code",
      "metadata": {
        "id": "ikz7L84sa22U",
        "colab": {
          "base_uri": "https://localhost:8080/",
          "height": 483
        },
        "outputId": "f90ff96b-6a55-4aa3-a7a7-6ff5fd84427c"
      },
      "source": [
        "# plot 2 by 3 array of generated images\n",
        "f, axarr = plt.subplots(2, 3, figsize=(16, 8))\n",
        "for i in range(2):\n",
        "    for j in range(3):\n",
        "        output = Gen.forward(generate_random(1))\n",
        "        img = output.detach().numpy().reshape(28, 28)\n",
        "        axarr[i, j].imshow(img, interpolation=\"none\", cmap=\"Blues\")"
      ],
      "execution_count": 16,
      "outputs": [
        {
          "output_type": "display_data",
          "data": {
            "image/png": "[encoded data removed]",
            "text/plain": [
              "<Figure size 1152x576 with 6 Axes>"
            ]
          },
          "metadata": {
            "tags": [],
            "needs_background": "light"
          }
        }
      ]
    },
    {
      "cell_type": "code",
      "metadata": {
        "id": "sTe3YXh1fmwC"
      },
      "source": [
        ""
      ],
      "execution_count": 16,
      "outputs": []
    }
  ]
}