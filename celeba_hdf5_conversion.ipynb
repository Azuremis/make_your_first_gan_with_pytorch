{
  "nbformat": 4,
  "nbformat_minor": 0,
  "metadata": {
    "colab": {
      "name": "celeba_hdf5_conversion.ipynb",
      "provenance": [],
      "collapsed_sections": [],
      "authorship_tag": "ABX9TyOiect+SqkyPQf+yElmx0aB",
      "include_colab_link": true
    },
    "kernelspec": {
      "name": "python3",
      "display_name": "Python 3"
    }
  },
  "cells": [
    {
      "cell_type": "markdown",
      "metadata": {
        "id": "view-in-github",
        "colab_type": "text"
      },
      "source": [
        "<a href=\"https://colab.research.google.com/github/Azuremis/make_your_first_gan_with_pytorch/blob/master/celeba_hdf5_conversion.ipynb\" target=\"_parent\"><img src=\"https://colab.research.google.com/assets/colab-badge.svg\" alt=\"Open In Colab\"/></a>"
      ]
    },
    {
      "cell_type": "markdown",
      "metadata": {
        "id": "BUkyJ9O4PoRu"
      },
      "source": [
        "Convert celebA human faces data into HDF5 format"
      ]
    },
    {
      "cell_type": "code",
      "metadata": {
        "colab": {
          "base_uri": "https://localhost:8080/"
        },
        "id": "JsWiqKWLPdEc",
        "outputId": "75f29bf7-75b1-4653-b11a-d64d6d0cafea"
      },
      "source": [
        "# mount google drive to access data files\n",
        "\n",
        "from google.colab import drive\n",
        "drive.mount(\"./mount\")"
      ],
      "execution_count": 10,
      "outputs": [
        {
          "output_type": "stream",
          "text": [
            "Drive already mounted at ./mount; to attempt to forcibly remount, call drive.mount(\"./mount\", force_remount=True).\n"
          ],
          "name": "stdout"
        }
      ]
    },
    {
      "cell_type": "code",
      "metadata": {
        "id": "cnTgngyig1t0"
      },
      "source": [
        "import h5py\n",
        "import zipfile\n",
        "import imageio\n",
        "import os"
      ],
      "execution_count": 11,
      "outputs": []
    },
    {
      "cell_type": "markdown",
      "metadata": {
        "id": "YTGCzrgJjRIk"
      },
      "source": [
        "Conversion into hdf5 format"
      ]
    },
    {
      "cell_type": "code",
      "metadata": {
        "id": "smTfmUypRC4i",
        "colab": {
          "base_uri": "https://localhost:8080/"
        },
        "outputId": "6be71316-936f-4ab0-aa08-3c4473f84373"
      },
      "source": [
        "%%time\n",
        "\n",
        "# HDF5 location\n",
        "hdf5_file = \"mount/My Drive/Colab Notebooks/make_your_first_gan_with_pytorch/celeba_data/celeba_aligned_samll.h5py\"\n",
        "\n",
        "celeba_zip_file = \"mount/My Drive/Colab Notebooks/make_your_first_gan_with_pytorch/celeba_data/img_align_celeba.zip\"\n",
        "\n",
        "# extract total_images number of files and package into HDF5\n",
        "total_images = 20000\n",
        "\n",
        "with h5py.File(hdf5_file, \"w\") as hf:\n",
        "\n",
        "    count = 0\n",
        "\n",
        "    with zipfile.ZipFile(celeba_zip_file, \"r\") as zf:\n",
        "        for i in zf.namelist():\n",
        "            # if it's a jpeg image\n",
        "            if i[-4:] == \".jpg\":\n",
        "                # extract image\n",
        "                ofile = zf.extract(i)\n",
        "                img = imageio.imread(ofile)\n",
        "                os.remove(ofile)  # delete the unzipped file\n",
        "\n",
        "                # add image data to HDF5 file with new name\n",
        "                hf.create_dataset(\"img_align_celeba/\" + str(count) + \".jpg\", data=img, compression=\"gzip\", compression_opts=9)\n",
        "\n",
        "                count += 1\n",
        "\n",
        "                if count % 1000 == 0:\n",
        "                    print(count, \"images done\")  \n",
        "\n",
        "                if count == total_images:\n",
        "                    break\n"
      ],
      "execution_count": 13,
      "outputs": [
        {
          "output_type": "stream",
          "text": [
            "1000 images done\n",
            "2000 images done\n",
            "3000 images done\n",
            "4000 images done\n",
            "5000 images done\n",
            "6000 images done\n",
            "7000 images done\n",
            "8000 images done\n",
            "9000 images done\n",
            "10000 images done\n",
            "11000 images done\n",
            "12000 images done\n",
            "13000 images done\n",
            "14000 images done\n",
            "15000 images done\n",
            "16000 images done\n",
            "17000 images done\n",
            "18000 images done\n",
            "19000 images done\n",
            "20000 images done\n",
            "CPU times: user 3min 23s, sys: 14.1 s, total: 3min 37s\n",
            "Wall time: 4min 35s\n"
          ],
          "name": "stdout"
        }
      ]
    },
    {
      "cell_type": "code",
      "metadata": {
        "id": "_WraWp3NixMj"
      },
      "source": [
        ""
      ],
      "execution_count": null,
      "outputs": []
    }
  ]
}