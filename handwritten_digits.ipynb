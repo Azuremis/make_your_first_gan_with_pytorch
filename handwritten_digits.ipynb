{
  "nbformat": 4,
  "nbformat_minor": 0,
  "metadata": {
    "colab": {
      "name": "handwritten_digits.ipynb",
      "provenance": [],
      "authorship_tag": "ABX9TyNoXPiKduxP5SK5R1izk/ax",
      "include_colab_link": true
    },
    "kernelspec": {
      "name": "python3",
      "display_name": "Python 3"
    }
  },
  "cells": [
    {
      "cell_type": "markdown",
      "metadata": {
        "id": "view-in-github",
        "colab_type": "text"
      },
      "source": [
        "<a href=\"https://colab.research.google.com/github/Azuremis/make_your_first_gan_with_pytorch/blob/master/handwritten_digits.ipynb\" target=\"_parent\"><img src=\"https://colab.research.google.com/assets/colab-badge.svg\" alt=\"Open In Colab\"/></a>"
      ]
    },
    {
      "cell_type": "code",
      "metadata": {
        "id": "mMoyXCHEXXHI",
        "colab_type": "code",
        "colab": {
          "base_uri": "https://localhost:8080/",
          "height": 127
        },
        "outputId": "79b102a5-9111-488f-8f44-dffb09f36645"
      },
      "source": [
        "# mount drive to read data files\n",
        "from google.colab import drive\n",
        "drive.mount(\"./mount\")"
      ],
      "execution_count": 1,
      "outputs": [
        {
          "output_type": "stream",
          "text": [
            "Go to this URL in a browser: https://accounts.google.com/o/oauth2/auth?client_id=947318989803-6bn6qk8qdgf4n4g3pfee6491hc0brc4i.apps.googleusercontent.com&redirect_uri=urn%3aietf%3awg%3aoauth%3a2.0%3aoob&response_type=code&scope=email%20https%3a%2f%2fwww.googleapis.com%2fauth%2fdocs.test%20https%3a%2f%2fwww.googleapis.com%2fauth%2fdrive%20https%3a%2f%2fwww.googleapis.com%2fauth%2fdrive.photos.readonly%20https%3a%2f%2fwww.googleapis.com%2fauth%2fpeopleapi.readonly\n",
            "\n",
            "Enter your authorization code:\n",
            "··········\n",
            "Mounted at ./mount\n"
          ],
          "name": "stdout"
        }
      ]
    },
    {
      "cell_type": "code",
      "metadata": {
        "id": "aI4YXBd5WKhi",
        "colab_type": "code",
        "colab": {}
      },
      "source": [
        "import torch \n",
        "import torch.nn as nn\n",
        "from torch.utils.data import Dataset\n",
        "\n",
        "import random\n",
        "import pandas as pd\n",
        "import numpy as np\n",
        "import matplotlib.pyplot as plt"
      ],
      "execution_count": 2,
      "outputs": []
    },
    {
      "cell_type": "markdown",
      "metadata": {
        "id": "S68nSMrt2_lq",
        "colab_type": "text"
      },
      "source": [
        "MNIST Dstaset class"
      ]
    },
    {
      "cell_type": "code",
      "metadata": {
        "id": "SYFRNkuxWi79",
        "colab_type": "code",
        "colab": {}
      },
      "source": [
        "class MnistDataset(Dataset):\n",
        "  \n",
        "    def __init__(self, csv_file):\n",
        "        self.data_df = pd.read_csv(csv_file, header=None)\n",
        "\n",
        "    def __len__(self):\n",
        "        return len(self.data_df)\n",
        "\n",
        "    def __getitem__(self, index):\n",
        "        # mage target (label)\n",
        "        label = self.data_df.iloc[index, 0]\n",
        "        target = torch.zeros((10))  # create target tensor \n",
        "        target[label] = 1.0  # using one hot encoding\n",
        "\n",
        "        # image data (normalise from 0-255 to 0-1)\n",
        "        image_values = torch.FloatTensor(self.data_df.iloc[index, 1:].values) / 255.0\n",
        "\n",
        "        # return label, image data and target tensor\n",
        "        return label, image_values, target\n",
        "\n",
        "    def plot_image(self, index):\n",
        "        # visualise image from pixels\n",
        "        img_arr = self.data_df.iloc[index, 1:].values.reshape(28, 28) \n",
        "        plt.title(\"Label: \" + str(self.data_df.iloc[index, 0]))\n",
        "        plt.imshow(img_arr, interpolation='none', cmap=\"Blues\")\n",
        "        plt.show()"
      ],
      "execution_count": 3,
      "outputs": []
    },
    {
      "cell_type": "code",
      "metadata": {
        "id": "Alyg0w1hZ-BE",
        "colab_type": "code",
        "colab": {}
      },
      "source": [
        "mnist_dataset = MnistDataset('mount/My Drive/Colab Notebooks/make_your_first_gan_with_pytorch/mnist_data/mnist_train.csv')"
      ],
      "execution_count": 4,
      "outputs": []
    },
    {
      "cell_type": "code",
      "metadata": {
        "id": "D6aDh-1eaA1I",
        "colab_type": "code",
        "colab": {
          "base_uri": "https://localhost:8080/",
          "height": 281
        },
        "outputId": "ab601c2c-5467-422f-acf8-f36df4813d32"
      },
      "source": [
        "mnist_dataset.plot_image(17)"
      ],
      "execution_count": 5,
      "outputs": [
        {
          "output_type": "display_data",
          "data": {
            "image/png": "[encoded data removed]",
            "text/plain": [
              "<Figure size 432x288 with 1 Axes>"
            ]
          },
          "metadata": {
            "tags": [],
            "needs_background": "light"
          }
        }
      ]
    },
    {
      "cell_type": "markdown",
      "metadata": {
        "id": "OYA7WNmMavX6",
        "colab_type": "text"
      },
      "source": [
        "MNIST discriminator"
      ]
    },
    {
      "cell_type": "code",
      "metadata": {
        "id": "s5rIS2vXaowl",
        "colab_type": "code",
        "colab": {}
      },
      "source": [
        "# set up the discriminator\n",
        "class Discriminator(nn.Module):\n",
        "\n",
        "    def __init__(self):\n",
        "        # initialise parent pytorch class\n",
        "        super().__init__()\n",
        "\n",
        "        # set up nn layers\n",
        "        self.model = nn.Sequential(\n",
        "            nn.Linear(784, 200),\n",
        "            nn.Sigmoid(),\n",
        "            nn.Linear(200, 1),\n",
        "            nn.Sigmoid()\n",
        "        )\n",
        "\n",
        "        # set up loss\n",
        "        self.loss_function = nn.MSELoss()\n",
        "\n",
        "        # set up optimiser\n",
        "        self.optimiser = torch.optim.SGD(self.parameters(), lr=0.01)\n",
        "\n",
        "        # set up progress monitors\n",
        "        self.counter = 0\n",
        "        self.progress = []\n",
        "\n",
        "    def forward(self, inputs):\n",
        "        # just run the model\n",
        "        return self.model(inputs)\n",
        "\n",
        "    def train(self, inputs, targets):\n",
        "        # calculate predictions\n",
        "        outputs = self.forward(inputs)\n",
        "\n",
        "        # calculate loss\n",
        "        loss = self.loss_function(outputs, targets)\n",
        "\n",
        "        # track training progress\n",
        "        self.counter += 1\n",
        "        if self.counter % 10 == 0:\n",
        "            self.progress.append(loss.item())  # accumulate error\n",
        "        if self.counter % 10000 == 0:\n",
        "            print(\"counter = \", self.counter)\n",
        "\n",
        "        # zero gradients\n",
        "        self.optimiser.zero_grad()\n",
        "        # perform backward pass by calcuating gradients\n",
        "        loss.backward()\n",
        "        # update learnable parameters\n",
        "        self.optimiser.step()\n",
        "\n",
        "    def plot_progress(self):\n",
        "\n",
        "        df = pd.DataFrame(self.progress, columns=[\"loss\"])    \n",
        "        df.plot(ylim=(0, 1.0), figsize=(16, 8), alpha=0.1, marker='.',\n",
        "                grid=True, yticks=(0, 0.25, 0.5))\n"
      ],
      "execution_count": 6,
      "outputs": []
    },
    {
      "cell_type": "markdown",
      "metadata": {
        "id": "xnRkONA4bXIo",
        "colab_type": "text"
      },
      "source": [
        "Testing the discriminator"
      ]
    },
    {
      "cell_type": "code",
      "metadata": {
        "id": "p3HCHyrxbV-M",
        "colab_type": "code",
        "colab": {}
      },
      "source": [
        "# generates random noise\n",
        "def generate_random(size):\n",
        "    return torch.rand(size)"
      ],
      "execution_count": 7,
      "outputs": []
    },
    {
      "cell_type": "code",
      "metadata": {
        "id": "lIG9WwINb2MX",
        "colab_type": "code",
        "colab": {
          "base_uri": "https://localhost:8080/",
          "height": 232
        },
        "outputId": "a77daa1e-c7e6-4060-e0a2-4435fe1cf70c"
      },
      "source": [
        "discrim = Discriminator()\n",
        "\n",
        "for label, image_data_tensor, target_tensor in mnist_dataset:\n",
        "    # train with real data\n",
        "    discrim.train(image_data_tensor, torch.FloatTensor([1.0]))\n",
        "    # train with fake data\n",
        "    discrim.train(generate_random(784), torch.FloatTensor([0.0]))\n"
      ],
      "execution_count": 8,
      "outputs": [
        {
          "output_type": "stream",
          "text": [
            "counter =  10000\n",
            "counter =  20000\n",
            "counter =  30000\n",
            "counter =  40000\n",
            "counter =  50000\n",
            "counter =  60000\n",
            "counter =  70000\n",
            "counter =  80000\n",
            "counter =  90000\n",
            "counter =  100000\n",
            "counter =  110000\n",
            "counter =  120000\n"
          ],
          "name": "stdout"
        }
      ]
    },
    {
      "cell_type": "code",
      "metadata": {
        "id": "rNRQG_BPcRm9",
        "colab_type": "code",
        "colab": {
          "base_uri": "https://localhost:8080/",
          "height": 483
        },
        "outputId": "12fdd092-b4d4-4446-d117-7d2f5e75dc22"
      },
      "source": [
        "# plot model loss\n",
        "discrim.plot_progress()"
      ],
      "execution_count": 9,
      "outputs": [
        {
          "output_type": "display_data",
          "data": {
            "image/png": "[encoded data removed]",
            "text/plain": [
              "<Figure size 1152x576 with 1 Axes>"
            ]
          },
          "metadata": {
            "tags": [],
            "needs_background": "light"
          }
        }
      ]
    },
    {
      "cell_type": "code",
      "metadata": {
        "id": "TQszgVkUcXgr",
        "colab_type": "code",
        "colab": {
          "base_uri": "https://localhost:8080/",
          "height": 160
        },
        "outputId": "cf15a0ca-2154-450a-e18a-21257f4fc187"
      },
      "source": [
        "# manual run to check discriminitor is working\n",
        "for i in range(4):\n",
        "    image_data_tensor = mnist_dataset[random.randint(0, 60000)][1]\n",
        "    print(discrim.forward(image_data_tensor).item())\n",
        "\n",
        "for i in range(4):\n",
        "    print(discrim.forward(generate_random(784)).item())\n"
      ],
      "execution_count": 10,
      "outputs": [
        {
          "output_type": "stream",
          "text": [
            "0.9811497926712036\n",
            "0.9980910420417786\n",
            "0.9873071908950806\n",
            "0.996250569820404\n",
            "0.004762198310345411\n",
            "0.0067585064098238945\n",
            "0.005488019902259111\n",
            "0.0042586857452988625\n"
          ],
          "name": "stdout"
        }
      ]
    },
    {
      "cell_type": "markdown",
      "metadata": {
        "id": "gju2uf_o7anH",
        "colab_type": "text"
      },
      "source": [
        "MNIST generator"
      ]
    },
    {
      "cell_type": "code",
      "metadata": {
        "id": "h-AtRtLQ6Ov-",
        "colab_type": "code",
        "colab": {}
      },
      "source": [
        "class Generator(nn.Module):\n",
        "    \n",
        "    def __init__(self):\n",
        "        # call parent pytorch class\n",
        "        super().__init__()\n",
        "\n",
        "        # set up layers\n",
        "        self.model = nn.Sequential(\n",
        "            nn.Linear(1, 200),\n",
        "            nn.Sigmoid(),\n",
        "            nn.Linear(200, 784),\n",
        "            nn.Sigmoid()\n",
        "        )\n",
        "\n",
        "        # set up optimiser\n",
        "        self.optimiser = torch.optim.SGD(self.parameters(), lr=0.01)\n",
        "\n",
        "        # set up progress tracking\n",
        "        self.counter = 0\n",
        "        self.progress = []\n",
        "\n",
        "    def forward(self, inputs):\n",
        "        return self.model(inputs)\n",
        "\n",
        "    def train(self, discriminator, inputs, targets):\n",
        "        # calculate network outputs, i.e. generate data\n",
        "        generator_output = self.forward(inputs)\n",
        "\n",
        "        # pass generated data to discriminator for classification\n",
        "        discriminator_output = discriminator.forward(generator_output)\n",
        "\n",
        "        # calculate loss using discriminator\n",
        "        loss = discriminator.loss_function(discriminator_output, targets)\n",
        "\n",
        "        # track progress\n",
        "        self.counter += 1\n",
        "        if self.counter % 10 == 0:\n",
        "            self.progress.append(loss.item())\n",
        "\n",
        "        # zero gradients\n",
        "        self.optimiser.zero_grad()\n",
        "        # perform backward pass\n",
        "        self.backward()\n",
        "        # update the parameters\n",
        "        self.optimiser.step()\n",
        "\n",
        "    def plot_progress():\n",
        "        df = pd.DataFrame(self.progress, columns=[\"loss\"])\n",
        "        df.plot(ylim=(0, 1.0), figsize=(16, 8), alpha=0.1, marker=\".\",\n",
        "                grid=True, yticks=(0, 0.25, 0.5))"
      ],
      "execution_count": 11,
      "outputs": []
    },
    {
      "cell_type": "markdown",
      "metadata": {
        "id": "3gPmHQekGewx",
        "colab_type": "text"
      },
      "source": [
        "Checking generator output"
      ]
    },
    {
      "cell_type": "code",
      "metadata": {
        "id": "UK28bsWbGh1q",
        "colab_type": "code",
        "colab": {
          "base_uri": "https://localhost:8080/",
          "height": 283
        },
        "outputId": "8fdbd235-b581-43d0-96a2-8c68655acb43"
      },
      "source": [
        "# check that generated data is right type and shape\n",
        "seed = 0.6\n",
        "gener = Generator()\n",
        "output = gener.forward(torch.FloatTensor([seed]))\n",
        "img = output.detach().numpy().reshape(28, 28)\n",
        "plt.imshow(img, interpolation=\"none\", cmap=\"Blues\")"
      ],
      "execution_count": 12,
      "outputs": [
        {
          "output_type": "execute_result",
          "data": {
            "text/plain": [
              "<matplotlib.image.AxesImage at 0x7f3ea5012048>"
            ]
          },
          "metadata": {
            "tags": []
          },
          "execution_count": 12
        },
        {
          "output_type": "display_data",
          "data": {
            "image/png": "[encoded data removed]",
            "text/plain": [
              "<Figure size 432x288 with 1 Axes>"
            ]
          },
          "metadata": {
            "tags": [],
            "needs_background": "light"
          }
        }
      ]
    }
  ]
}