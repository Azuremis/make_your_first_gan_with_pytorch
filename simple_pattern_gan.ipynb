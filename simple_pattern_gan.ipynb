{
  "nbformat": 4,
  "nbformat_minor": 0,
  "metadata": {
    "colab": {
      "name": "simple_pattern_gan.ipynb",
      "provenance": [],
      "collapsed_sections": [],
      "authorship_tag": "ABX9TyMTi3g8GXnKJdfPfsvCOJs9",
      "include_colab_link": true
    },
    "kernelspec": {
      "name": "python3",
      "display_name": "Python 3"
    }
  },
  "cells": [
    {
      "cell_type": "markdown",
      "metadata": {
        "id": "view-in-github",
        "colab_type": "text"
      },
      "source": [
        "<a href=\"https://colab.research.google.com/github/Azuremis/make_your_first_gan_with_pytorch/blob/master/simple_pattern_gan.ipynb\" target=\"_parent\"><img src=\"https://colab.research.google.com/assets/colab-badge.svg\" alt=\"Open In Colab\"/></a>"
      ]
    },
    {
      "cell_type": "code",
      "metadata": {
        "id": "S57d9uaj-n94"
      },
      "source": [
        "# import required libraries\n",
        "\n",
        "import torch\n",
        "import torch.nn as nn\n",
        "\n",
        "import random\n",
        "import numpy\n",
        "import pandas\n",
        "import matplotlib.pyplot as plt"
      ],
      "execution_count": 8,
      "outputs": []
    },
    {
      "cell_type": "code",
      "metadata": {
        "id": "pJECIcq6_KxZ"
      },
      "source": [
        ""
      ],
      "execution_count": 8,
      "outputs": []
    },
    {
      "cell_type": "markdown",
      "metadata": {
        "id": "KC-bB0hJJSS9"
      },
      "source": [
        "Making real data source"
      ]
    },
    {
      "cell_type": "code",
      "metadata": {
        "id": "3-ppvKF__LVg"
      },
      "source": [
        "# set up real data source\n",
        "def generate_real():\n",
        "    real_data = torch.FloatTensor(\n",
        "        [random.uniform(0.8, 1.0),\n",
        "         random.uniform(0.0, 0.2),\n",
        "         random.uniform(0.8, 1.0),\n",
        "         random.uniform(0.0, 0.2)]\n",
        "    )\n",
        "\n",
        "    return real_data"
      ],
      "execution_count": 9,
      "outputs": []
    },
    {
      "cell_type": "code",
      "metadata": {
        "id": "sic3a3FB_X00",
        "colab": {
          "base_uri": "https://localhost:8080/"
        },
        "outputId": "3279b860-0a79-4f24-b0cd-8bd786966cb3"
      },
      "source": [
        "# check range of numbers generated makes sense\n",
        "generate_real()"
      ],
      "execution_count": 10,
      "outputs": [
        {
          "output_type": "execute_result",
          "data": {
            "text/plain": [
              "tensor([0.9650, 0.1615, 0.9950, 0.1414])"
            ]
          },
          "metadata": {
            "tags": []
          },
          "execution_count": 10
        }
      ]
    },
    {
      "cell_type": "markdown",
      "metadata": {
        "id": "A4mD8pOUJVwp"
      },
      "source": [
        "Creating the discriminator"
      ]
    },
    {
      "cell_type": "code",
      "metadata": {
        "id": "VlEEAjxuAWl2"
      },
      "source": [
        "# set up the discriminator\n",
        "class Discriminator(nn.Module):\n",
        "\n",
        "    def __init__(self):\n",
        "        # initialise parent pytorch class\n",
        "        super().__init__()\n",
        "\n",
        "        # set up nn layers\n",
        "        self.model = nn.Sequential(\n",
        "            nn.Linear(4, 3),\n",
        "            nn.Sigmoid(),\n",
        "            nn.Linear(3, 1),\n",
        "            nn.Sigmoid()\n",
        "        )\n",
        "\n",
        "        # set up loss\n",
        "        self.loss_function = nn.BCELoss()\n",
        "\n",
        "        # set up optimiser\n",
        "        self.optimiser = torch.optim.SGD(self.parameters(), lr=0.01)\n",
        "\n",
        "        # set up progress monitors\n",
        "        self.counter = 0\n",
        "        self.progress = []\n",
        "\n",
        "    def forward(self, inputs):\n",
        "        # just run the model\n",
        "        return self.model(inputs)\n",
        "\n",
        "    def train(self, inputs, targets):\n",
        "        # calculate predictions\n",
        "        outputs = self.forward(inputs)\n",
        "\n",
        "        # calculate loss\n",
        "        loss = self.loss_function(outputs, targets)\n",
        "\n",
        "        # track training progress\n",
        "        self.counter += 1\n",
        "        if self.counter % 10 == 0:\n",
        "            self.progress.append(loss.item())  # accumulate error\n",
        "        if self.counter % 10000 == 0:\n",
        "            print(\"counter = \", self.counter)\n",
        "\n",
        "        # zero gradients\n",
        "        self.optimiser.zero_grad()\n",
        "        # perform backward pass by calcuating gradients\n",
        "        loss.backward()\n",
        "        # update learnable parameters\n",
        "        self.optimiser.step()\n",
        "\n",
        "    def plot_progress(self):\n",
        "\n",
        "        df = pandas.DataFrame(self.progress, columns=[\"loss\"])    \n",
        "        df.plot(ylim=(0), figsize=(16, 8), alpha=0.1, marker='.',\n",
        "                grid=True, yticks=(0, 0.25, 0.5, 1.0, 5.0))\n"
      ],
      "execution_count": 11,
      "outputs": []
    },
    {
      "cell_type": "markdown",
      "metadata": {
        "id": "70vwwFYCJaEc"
      },
      "source": [
        "Testing the discriminator"
      ]
    },
    {
      "cell_type": "code",
      "metadata": {
        "id": "fSMgyjXkHjk2"
      },
      "source": [
        "# generates random noise\n",
        "def generate_random(size):\n",
        "    return torch.rand(size)"
      ],
      "execution_count": 12,
      "outputs": []
    },
    {
      "cell_type": "code",
      "metadata": {
        "colab": {
          "base_uri": "https://localhost:8080/"
        },
        "id": "9t1MLf-xiEJK",
        "outputId": "a49ced30-e0db-44d4-80cc-4e3467e05d47"
      },
      "source": [
        "generate_random(4)"
      ],
      "execution_count": 13,
      "outputs": [
        {
          "output_type": "execute_result",
          "data": {
            "text/plain": [
              "tensor([0.8801, 0.0968, 0.2381, 0.6003])"
            ]
          },
          "metadata": {
            "tags": []
          },
          "execution_count": 13
        }
      ]
    },
    {
      "cell_type": "code",
      "metadata": {
        "id": "xaO5hjRgJ_YV",
        "colab": {
          "base_uri": "https://localhost:8080/"
        },
        "outputId": "ea213d91-d278-40b9-c888-d4d5da944c05"
      },
      "source": [
        "discrim = Discriminator()\n",
        "\n",
        "for i in range(10000):\n",
        "    # train with real data\n",
        "    discrim.train(generate_real(), torch.FloatTensor([1.0]))\n",
        "    # train with fake data\n",
        "    discrim.train(generate_random(4), torch.FloatTensor([0.0]))\n"
      ],
      "execution_count": 14,
      "outputs": [
        {
          "output_type": "stream",
          "text": [
            "counter =  10000\n",
            "counter =  20000\n"
          ],
          "name": "stdout"
        }
      ]
    },
    {
      "cell_type": "code",
      "metadata": {
        "id": "ED_AXU9k_Fi8",
        "colab": {
          "base_uri": "https://localhost:8080/"
        },
        "outputId": "d6d2e153-0c3d-4dff-9f5b-42d9176bfb64"
      },
      "source": [
        "discrim.progress[:5]"
      ],
      "execution_count": 15,
      "outputs": [
        {
          "output_type": "execute_result",
          "data": {
            "text/plain": [
              "[0.6994422674179077,\n",
              " 0.7180208563804626,\n",
              " 0.7131019830703735,\n",
              " 0.7157678604125977,\n",
              " 0.6945534348487854]"
            ]
          },
          "metadata": {
            "tags": []
          },
          "execution_count": 15
        }
      ]
    },
    {
      "cell_type": "code",
      "metadata": {
        "id": "Xg3QmTZBLFRG",
        "colab": {
          "base_uri": "https://localhost:8080/",
          "height": 487
        },
        "outputId": "9d6bb29f-d2c7-4c88-c26f-87f0711f8802"
      },
      "source": [
        "# plot model loss\n",
        "discrim.plot_progress()"
      ],
      "execution_count": 16,
      "outputs": [
        {
          "output_type": "display_data",
          "data": {
            "image/png": "[encoded data removed]",
            "text/plain": [
              "<Figure size 1152x576 with 1 Axes>"
            ]
          },
          "metadata": {
            "tags": [],
            "needs_background": "light"
          }
        }
      ]
    },
    {
      "cell_type": "code",
      "metadata": {
        "id": "oIFAEqdELVbn",
        "colab": {
          "base_uri": "https://localhost:8080/"
        },
        "outputId": "2ffdc95c-93c0-4c3f-ae66-7c4744df4bb4"
      },
      "source": [
        "# manual run to check discriminitor is working\n",
        "print(\"With real data:\", discrim.forward(generate_real()).item())\n",
        "print(\"With random data:\", discrim.forward(generate_random(4)).item())"
      ],
      "execution_count": 17,
      "outputs": [
        {
          "output_type": "stream",
          "text": [
            "With real data: 0.9459968209266663\n",
            "With random data: 0.011996911838650703\n"
          ],
          "name": "stdout"
        }
      ]
    },
    {
      "cell_type": "markdown",
      "metadata": {
        "id": "rQXHNbuTNVAx"
      },
      "source": [
        "Creating the generator"
      ]
    },
    {
      "cell_type": "code",
      "metadata": {
        "id": "uflRXHaFLlJx"
      },
      "source": [
        "class Generator(nn.Module):\n",
        "    \n",
        "    def __init__(self):\n",
        "        # call parent pytorch class\n",
        "        super().__init__()\n",
        "\n",
        "        # set up nn layers\n",
        "        self.model = nn.Sequential(\n",
        "            nn.Linear(1, 3),\n",
        "            nn.Sigmoid(),\n",
        "            nn.Linear(3, 4),\n",
        "            nn.Sigmoid()\n",
        "        )\n",
        "\n",
        "        # set up optimiser\n",
        "        self.optimiser = torch.optim.SGD(self.parameters(), lr=0.01)\n",
        "\n",
        "        # set up progress trackers\n",
        "        self.counter = 0\n",
        "        self.progress = []\n",
        "\n",
        "    def forward(self, inputs):\n",
        "        return self.model(inputs)\n",
        "\n",
        "    def train(self, discriminator, inputs, targets):\n",
        "        # calculate network output i.e. generate data example\n",
        "        generator_output = self.forward(inputs)\n",
        "\n",
        "        # pass output to the discriminator to get classification\n",
        "        discriminator_output = discriminator.forward(generator_output)\n",
        "\n",
        "        # calculate error\n",
        "        loss = discriminator.loss_function(discriminator_output, targets)\n",
        "\n",
        "        # track progress\n",
        "        self.counter += 1\n",
        "        if self.counter % 10 == 0:\n",
        "            self.progress.append(loss.item())\n",
        "\n",
        "        # zero gradients\n",
        "        self.optimiser.zero_grad()\n",
        "        # perform backward pass\n",
        "        loss.backward()\n",
        "        # update weights\n",
        "        self.optimiser.step()\n",
        "\n",
        "    def plot_progress(self):\n",
        "        df = pandas.DataFrame(self.progress, columns=[\"loss\"])    \n",
        "        df.plot(ylim=(0), figsize=(16, 8), alpha=0.1, marker='.',\n",
        "                grid=True, yticks=(0, 0.25, 0.5, 1.0, 5.0))"
      ],
      "execution_count": 18,
      "outputs": []
    },
    {
      "cell_type": "markdown",
      "metadata": {
        "id": "9edLXTGHjYE4"
      },
      "source": [
        "Checking generator output"
      ]
    },
    {
      "cell_type": "code",
      "metadata": {
        "id": "mAH771uhjXb9",
        "colab": {
          "base_uri": "https://localhost:8080/"
        },
        "outputId": "49845e8c-acf1-43fb-d6ad-91bb1f9aa216"
      },
      "source": [
        "# check that generated data is right type and shape\n",
        "seed = 0.6\n",
        "gener = Generator()\n",
        "gener.forward(torch.FloatTensor([seed]))"
      ],
      "execution_count": 19,
      "outputs": [
        {
          "output_type": "execute_result",
          "data": {
            "text/plain": [
              "tensor([0.6399, 0.5556, 0.5536, 0.2732], grad_fn=<SigmoidBackward>)"
            ]
          },
          "metadata": {
            "tags": []
          },
          "execution_count": 19
        }
      ]
    },
    {
      "cell_type": "markdown",
      "metadata": {
        "id": "d4ncyNMrkIzT"
      },
      "source": [
        "Training the GAN"
      ]
    },
    {
      "cell_type": "code",
      "metadata": {
        "id": "p9MJ-G-uj2sX",
        "colab": {
          "base_uri": "https://localhost:8080/"
        },
        "outputId": "b9c49516-4196-4dab-e391-2c744920d8e5"
      },
      "source": [
        "%%time\n",
        "\n",
        "# create discriminator and generator\n",
        "Dis = Discriminator()\n",
        "Gen = Generator()\n",
        "\n",
        "image_list = []  # image storage during training\n",
        "\n",
        "# train discriminator and generator\n",
        "for i in range(10000):\n",
        "\n",
        "    # train the discriminator on true \n",
        "    Dis.train(generate_real(), torch.FloatTensor([1.0]))\n",
        "\n",
        "    # train the discriminator on false, detach() means gradients not calculated for generator\n",
        "    Dis.train(Gen.forward(torch.FloatTensor([0.5])).detach(), torch.FloatTensor([0.0]))\n",
        "    \n",
        "    # train generator\n",
        "    Gen.train(Dis, torch.FloatTensor([0.5]), torch.FloatTensor([1.0]))\n",
        "\n",
        "    # track generated images after 1000 trianing runs\n",
        "    if i % 1000 == 0:\n",
        "        image_list.append(Gen.forward(torch.FloatTensor([0.5])).detach().numpy())"
      ],
      "execution_count": 20,
      "outputs": [
        {
          "output_type": "stream",
          "text": [
            "counter =  10000\n",
            "counter =  20000\n",
            "CPU times: user 16.4 s, sys: 2.34 ms, total: 16.4 s\n",
            "Wall time: 16.4 s\n"
          ],
          "name": "stdout"
        }
      ]
    },
    {
      "cell_type": "code",
      "metadata": {
        "id": "9LD-_mfOVeab",
        "colab": {
          "base_uri": "https://localhost:8080/",
          "height": 487
        },
        "outputId": "696b1cf8-549b-42e3-9dfa-0a3160d2457a"
      },
      "source": [
        "# plot discriminator loss\n",
        "Dis.plot_progress()"
      ],
      "execution_count": 21,
      "outputs": [
        {
          "output_type": "display_data",
          "data": {
            "image/png": "[encoded data removed]",
            "text/plain": [
              "<Figure size 1152x576 with 1 Axes>"
            ]
          },
          "metadata": {
            "tags": [],
            "needs_background": "light"
          }
        }
      ]
    },
    {
      "cell_type": "code",
      "metadata": {
        "id": "VnxX6LpXViCO",
        "colab": {
          "base_uri": "https://localhost:8080/",
          "height": 487
        },
        "outputId": "1b6728fe-4993-47d3-9a07-df502f1c2d0a"
      },
      "source": [
        "# plot generator loss\n",
        "Gen.plot_progress()"
      ],
      "execution_count": 22,
      "outputs": [
        {
          "output_type": "display_data",
          "data": {
            "image/png": "[encoded data removed]",
            "text/plain": [
              "<Figure size 1152x576 with 1 Axes>"
            ]
          },
          "metadata": {
            "tags": [],
            "needs_background": "light"
          }
        }
      ]
    },
    {
      "cell_type": "code",
      "metadata": {
        "id": "YZZ3bhCaWbB3",
        "colab": {
          "base_uri": "https://localhost:8080/"
        },
        "outputId": "3507839e-3559-4bcb-a5ec-9a5f13ec1a39"
      },
      "source": [
        "# examine output of trained generator\n",
        "Gen.forward(torch.FloatTensor([0.5]))"
      ],
      "execution_count": 23,
      "outputs": [
        {
          "output_type": "execute_result",
          "data": {
            "text/plain": [
              "tensor([0.9789, 0.0250, 0.9703, 0.0258], grad_fn=<SigmoidBackward>)"
            ]
          },
          "metadata": {
            "tags": []
          },
          "execution_count": 23
        }
      ]
    },
    {
      "cell_type": "markdown",
      "metadata": {
        "id": "oqSRTtQRckWz"
      },
      "source": [
        "Visualise GAN training pattern"
      ]
    },
    {
      "cell_type": "code",
      "metadata": {
        "id": "DGQpYg8YW_lm",
        "colab": {
          "base_uri": "https://localhost:8080/",
          "height": 426
        },
        "outputId": "e92d7134-9b25-49a0-be36-ba3a18a9fa94"
      },
      "source": [
        "plt.figure(figsize=(16, 8))\n",
        "plt.imshow(numpy.array(image_list).T, interpolation=\"none\", cmap=\"Blues\")"
      ],
      "execution_count": 24,
      "outputs": [
        {
          "output_type": "execute_result",
          "data": {
            "text/plain": [
              "<matplotlib.image.AxesImage at 0x7f37d12ea978>"
            ]
          },
          "metadata": {
            "tags": []
          },
          "execution_count": 24
        },
        {
          "output_type": "display_data",
          "data": {
            "image/png": "[encoded data removed]",
            "text/plain": [
              "<Figure size 1152x576 with 1 Axes>"
            ]
          },
          "metadata": {
            "tags": [],
            "needs_background": "light"
          }
        }
      ]
    },
    {
      "cell_type": "code",
      "metadata": {
        "id": "h4gvYNugbrqF"
      },
      "source": [
        ""
      ],
      "execution_count": 24,
      "outputs": []
    }
  ]
}