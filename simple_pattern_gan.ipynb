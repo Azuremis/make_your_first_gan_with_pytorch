{
  "nbformat": 4,
  "nbformat_minor": 0,
  "metadata": {
    "colab": {
      "name": "simple_pattern_gan.ipynb",
      "provenance": [],
      "collapsed_sections": [],
      "authorship_tag": "ABX9TyMZxP9dyLjojvGNXotK+a32",
      "include_colab_link": true
    },
    "kernelspec": {
      "name": "python3",
      "display_name": "Python 3"
    }
  },
  "cells": [
    {
      "cell_type": "markdown",
      "metadata": {
        "id": "view-in-github",
        "colab_type": "text"
      },
      "source": [
        "<a href=\"https://colab.research.google.com/github/Azuremis/make_your_first_gan_with_pytorch/blob/master/simple_pattern_gan.ipynb\" target=\"_parent\"><img src=\"https://colab.research.google.com/assets/colab-badge.svg\" alt=\"Open In Colab\"/></a>"
      ]
    },
    {
      "cell_type": "code",
      "metadata": {
        "id": "S57d9uaj-n94",
        "colab_type": "code",
        "colab": {}
      },
      "source": [
        "# import required libraries\n",
        "\n",
        "import torch\n",
        "import torch.nn as nn\n",
        "\n",
        "import random\n",
        "import pandas\n",
        "import matplotlib.pyplot as plt"
      ],
      "execution_count": 1,
      "outputs": []
    },
    {
      "cell_type": "markdown",
      "metadata": {
        "id": "KC-bB0hJJSS9",
        "colab_type": "text"
      },
      "source": [
        "Making real data source"
      ]
    },
    {
      "cell_type": "code",
      "metadata": {
        "id": "3-ppvKF__LVg",
        "colab_type": "code",
        "colab": {}
      },
      "source": [
        "# set up real data source\n",
        "def generate_real():\n",
        "    real_data = torch.FloatTensor(\n",
        "        [random.uniform(0.8, 1.0),\n",
        "         random.uniform(0.0, 0.2),\n",
        "         random.uniform(0.8, 1.0),\n",
        "         random.uniform(0.0, 0.2)]\n",
        "    )\n",
        "\n",
        "    return real_data"
      ],
      "execution_count": 2,
      "outputs": []
    },
    {
      "cell_type": "code",
      "metadata": {
        "id": "sic3a3FB_X00",
        "colab_type": "code",
        "colab": {
          "base_uri": "https://localhost:8080/",
          "height": 34
        },
        "outputId": "cd052dd6-fcc8-47dd-f6b4-a4daa9adc506"
      },
      "source": [
        "# check range of numbers generated makes sense\n",
        "generate_real()"
      ],
      "execution_count": 3,
      "outputs": [
        {
          "output_type": "execute_result",
          "data": {
            "text/plain": [
              "tensor([0.8210, 0.1837, 0.8180, 0.1403])"
            ]
          },
          "metadata": {
            "tags": []
          },
          "execution_count": 3
        }
      ]
    },
    {
      "cell_type": "markdown",
      "metadata": {
        "id": "A4mD8pOUJVwp",
        "colab_type": "text"
      },
      "source": [
        "Creating the discriminator"
      ]
    },
    {
      "cell_type": "code",
      "metadata": {
        "id": "VlEEAjxuAWl2",
        "colab_type": "code",
        "colab": {}
      },
      "source": [
        "# set up the discriminator\n",
        "class Discriminator(nn.Module):\n",
        "\n",
        "    def __init__(self):\n",
        "        # initialise parent pytorch class\n",
        "        super().__init__()\n",
        "\n",
        "        # set up nn layers\n",
        "        self.model = nn.Sequential(\n",
        "            nn.Linear(4, 3),\n",
        "            nn.Sigmoid(),\n",
        "            nn.Linear(3, 1),\n",
        "            nn.Sigmoid()\n",
        "        )\n",
        "\n",
        "        # set up loss\n",
        "        self.loss_function = nn.MSELoss()\n",
        "\n",
        "        # set up optimiser\n",
        "        self.optimiser = torch.optim.SGD(self.parameters(), lr=0.01)\n",
        "\n",
        "        # set up progress monitors\n",
        "        self.counter = 0\n",
        "        self.progress = []\n",
        "\n",
        "    def forward(self, inputs):\n",
        "        # just run the model\n",
        "        return self.model(inputs)\n",
        "\n",
        "    def train(self, inputs, targets):\n",
        "        # calculate predictions\n",
        "        outputs = self.forward(inputs)\n",
        "\n",
        "        # calculate loss\n",
        "        loss = self.loss_function(outputs, targets)\n",
        "\n",
        "        # track training progress\n",
        "        self.counter += 1\n",
        "        if self.counter % 10 == 0:\n",
        "            self.progress.append(loss.item())  # accumulate error\n",
        "        if self.counter % 10000 == 0:\n",
        "            print(\"counter = \", self.counter)\n",
        "\n",
        "        # zero gradients\n",
        "        self.optimiser.zero_grad()\n",
        "        # perform backward pass by calcuating gradients\n",
        "        loss.backward()\n",
        "        # update learnable parameters\n",
        "        self.optimiser.step()\n",
        "\n",
        "    def plot_progress(self):\n",
        "        df = pandas.DataFrame(self.progress, columns=[\"loss\"])    \n",
        "        df.plot(ylim=(0, 1.0), figsize=(16, 8), alpha=0.1, marker='.',\n",
        "                grid=True, yticks=(0, 0.25, 0.5))\n"
      ],
      "execution_count": 4,
      "outputs": []
    },
    {
      "cell_type": "markdown",
      "metadata": {
        "id": "70vwwFYCJaEc",
        "colab_type": "text"
      },
      "source": [
        "Testing the discriminator"
      ]
    },
    {
      "cell_type": "code",
      "metadata": {
        "id": "fSMgyjXkHjk2",
        "colab_type": "code",
        "colab": {}
      },
      "source": [
        "# generates random noise\n",
        "def generate_random(size):\n",
        "    return torch.rand(size)"
      ],
      "execution_count": 5,
      "outputs": []
    },
    {
      "cell_type": "code",
      "metadata": {
        "id": "xaO5hjRgJ_YV",
        "colab_type": "code",
        "colab": {
          "base_uri": "https://localhost:8080/",
          "height": 52
        },
        "outputId": "1467e718-2725-42b4-ea1a-f7ba95ed0339"
      },
      "source": [
        "discrim = Discriminator()\n",
        "\n",
        "for i in range(10000):\n",
        "    # train with real data\n",
        "    discrim.train(generate_real(), torch.FloatTensor([1.0]))\n",
        "    # train with fake data\n",
        "    discrim.train(generate_random(4), torch.FloatTensor([0.0]))\n"
      ],
      "execution_count": 6,
      "outputs": [
        {
          "output_type": "stream",
          "text": [
            "counter =  10000\n",
            "counter =  20000\n"
          ],
          "name": "stdout"
        }
      ]
    },
    {
      "cell_type": "code",
      "metadata": {
        "id": "Xg3QmTZBLFRG",
        "colab_type": "code",
        "colab": {
          "base_uri": "https://localhost:8080/",
          "height": 483
        },
        "outputId": "e73f8bd5-1b5c-469a-9b6b-649a4a852979"
      },
      "source": [
        "# plot model loss\n",
        "discrim.plot_progress()"
      ],
      "execution_count": 7,
      "outputs": [
        {
          "output_type": "display_data",
          "data": {
            "image/png": "[encoded data removed]",
            "text/plain": [
              "<Figure size 1152x576 with 1 Axes>"
            ]
          },
          "metadata": {
            "tags": [],
            "needs_background": "light"
          }
        }
      ]
    },
    {
      "cell_type": "code",
      "metadata": {
        "id": "oIFAEqdELVbn",
        "colab_type": "code",
        "colab": {
          "base_uri": "https://localhost:8080/",
          "height": 52
        },
        "outputId": "a99b04fc-1a94-4b68-c632-06498a51ab39"
      },
      "source": [
        "# manual run to check discriminitor is working\n",
        "print(\"With real data:\", discrim.forward(generate_real()).item())\n",
        "print(\"With random data:\", discrim.forward(generate_random(4)).item())"
      ],
      "execution_count": 8,
      "outputs": [
        {
          "output_type": "stream",
          "text": [
            "With real data: 0.757024347782135\n",
            "With random data: 0.13972234725952148\n"
          ],
          "name": "stdout"
        }
      ]
    },
    {
      "cell_type": "markdown",
      "metadata": {
        "id": "rQXHNbuTNVAx",
        "colab_type": "text"
      },
      "source": [
        "Creating the generator"
      ]
    },
    {
      "cell_type": "code",
      "metadata": {
        "id": "uflRXHaFLlJx",
        "colab_type": "code",
        "colab": {}
      },
      "source": [
        "class Generator(nn.Module):\n",
        "    \n",
        "    def __init__(self):\n",
        "        # call parent pytorch class\n",
        "        super().__init__()\n",
        "\n",
        "        # set up nn layers\n",
        "        self.model = nn.Sequential(\n",
        "            nn.Linear(1, 3),\n",
        "            nn.Sigmoid(),\n",
        "            nn.Linear(3, 4),\n",
        "            nn.Sigmoid()\n",
        "        )\n",
        "\n",
        "        # set up optimiser\n",
        "        self.optimiser = torch.optim.SGD(self.parameters(), lr=0.01)\n",
        "\n",
        "        # set up progress trackers\n",
        "        self.counter = 0\n",
        "        self.progress = []\n",
        "\n",
        "    def forward(self, inputs):\n",
        "        return self.model(inputs)\n",
        "\n",
        "    def train(self, discriminator, inputs, targets):\n",
        "        # calculate network output i.e. generate data example\n",
        "        generator_output = self.forward(inputs)\n",
        "\n",
        "        # pass output to the discriminator to get classification\n",
        "        discriminator_output = discriminator.forward(generator_output)\n",
        "\n",
        "        # calculate error\n",
        "        loss = discriminator.loss_function(discriminator_output, targets)\n",
        "\n",
        "        # track progress\n",
        "        self.counter += 1\n",
        "        if self.counter % 10 == 0:\n",
        "            self.progress.append(loss.item())\n",
        "\n",
        "        # zero gradients\n",
        "        self.optimiser.zero_grad()\n",
        "        # perform backward pass\n",
        "        loss.backward()\n",
        "        # update weights\n",
        "        self.optimiser.step()\n",
        "\n",
        "    def plot_progress(self):\n",
        "        df = pandas.DataFrame(self.progress, columns=[\"loss\"])    \n",
        "        df.plot(ylim=(0, 1.0), figsize=(16, 8), alpha=0.1, marker='.',\n",
        "                grid=True, yticks=(0, 0.25, 0.5))"
      ],
      "execution_count": 24,
      "outputs": []
    },
    {
      "cell_type": "markdown",
      "metadata": {
        "id": "9edLXTGHjYE4",
        "colab_type": "text"
      },
      "source": [
        "Checking generator output"
      ]
    },
    {
      "cell_type": "code",
      "metadata": {
        "id": "mAH771uhjXb9",
        "colab_type": "code",
        "colab": {
          "base_uri": "https://localhost:8080/",
          "height": 34
        },
        "outputId": "a4ba7a97-1d6a-4aa7-a58b-370de7b7adee"
      },
      "source": [
        "# check that generated data is right type and shape\n",
        "seed = 0.6\n",
        "gener = Generator()\n",
        "gener.forward(torch.FloatTensor([seed]))"
      ],
      "execution_count": 25,
      "outputs": [
        {
          "output_type": "execute_result",
          "data": {
            "text/plain": [
              "tensor([0.4437, 0.5867, 0.4804, 0.3933], grad_fn=<SigmoidBackward>)"
            ]
          },
          "metadata": {
            "tags": []
          },
          "execution_count": 25
        }
      ]
    },
    {
      "cell_type": "markdown",
      "metadata": {
        "id": "d4ncyNMrkIzT",
        "colab_type": "text"
      },
      "source": [
        "Training the GAN"
      ]
    },
    {
      "cell_type": "code",
      "metadata": {
        "id": "p9MJ-G-uj2sX",
        "colab_type": "code",
        "colab": {
          "base_uri": "https://localhost:8080/",
          "height": 173
        },
        "outputId": "4d2b4e7b-5b75-4025-b302-2999d44de642"
      },
      "source": [
        "%%timeit\n",
        "\n",
        "# create discriminator and generator\n",
        "Dis = Discriminator()\n",
        "Gen = Generator()\n",
        "\n",
        "# train discriminator and generator\n",
        "for i in range(10000):\n",
        "\n",
        "    # train the discriminator on true \n",
        "    Dis.train(generate_real(), torch.FloatTensor([1.0]))\n",
        "\n",
        "    # train the discriminator on false, detach() means gradients not calculated for generator\n",
        "    Dis.train(Gen.forward(torch.FloatTensor([0.5])).detach(), torch.FloatTensor([0.0]))\n",
        "\n",
        "    # train generator\n",
        "    Gen.train(Dis, torch.FloatTensor([0.5]), torch.FloatTensor([1.0]))"
      ],
      "execution_count": 26,
      "outputs": [
        {
          "output_type": "stream",
          "text": [
            "counter =  10000\n",
            "counter =  20000\n",
            "counter =  10000\n",
            "counter =  20000\n",
            "counter =  10000\n",
            "counter =  20000\n",
            "counter =  10000\n",
            "counter =  20000\n",
            "1 loop, best of 3: 16.3 s per loop\n"
          ],
          "name": "stdout"
        }
      ]
    },
    {
      "cell_type": "code",
      "metadata": {
        "id": "B1S4_L_iyRZp",
        "colab_type": "code",
        "colab": {}
      },
      "source": [
        ""
      ],
      "execution_count": null,
      "outputs": []
    }
  ]
}