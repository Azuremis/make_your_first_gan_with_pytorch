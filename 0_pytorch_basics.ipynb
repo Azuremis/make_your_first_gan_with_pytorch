{
  "nbformat": 4,
  "nbformat_minor": 0,
  "metadata": {
    "colab": {
      "name": "0_pytorch_basics.ipynb",
      "provenance": [],
      "include_colab_link": true
    },
    "kernelspec": {
      "name": "python3",
      "display_name": "Python 3"
    }
  },
  "cells": [
    {
      "cell_type": "markdown",
      "metadata": {
        "id": "view-in-github",
        "colab_type": "text"
      },
      "source": [
        "<a href=\"https://colab.research.google.com/github/Azuremis/make_your_first_gan_with_pytorch/blob/master/0_pytorch_basics.ipynb\" target=\"_parent\"><img src=\"https://colab.research.google.com/assets/colab-badge.svg\" alt=\"Open In Colab\"/></a>"
      ]
    },
    {
      "cell_type": "code",
      "metadata": {
        "id": "doQPFG6egpuH",
        "colab_type": "code",
        "colab": {}
      },
      "source": [
        "import torch"
      ],
      "execution_count": 0,
      "outputs": []
    },
    {
      "cell_type": "code",
      "metadata": {
        "id": "jsFS7fmfg2L3",
        "colab_type": "code",
        "outputId": "25674433-89ec-4e5c-e6c5-d08179905027",
        "colab": {
          "base_uri": "https://localhost:8080/",
          "height": 34
        }
      },
      "source": [
        "# simple pytorch tensor\n",
        "\n",
        "x = torch.tensor(3.5)\n",
        "\n",
        "print(x)"
      ],
      "execution_count": 2,
      "outputs": [
        {
          "output_type": "stream",
          "text": [
            "tensor(3.5000)\n"
          ],
          "name": "stdout"
        }
      ]
    },
    {
      "cell_type": "code",
      "metadata": {
        "id": "Hs4f2csWhYBb",
        "colab_type": "code",
        "outputId": "ac44d9ba-d30e-4546-c206-1b1831c5511e",
        "colab": {
          "base_uri": "https://localhost:8080/",
          "height": 34
        }
      },
      "source": [
        "y = x + 3\n",
        "\n",
        "print(y)"
      ],
      "execution_count": 3,
      "outputs": [
        {
          "output_type": "stream",
          "text": [
            "tensor(6.5000)\n"
          ],
          "name": "stdout"
        }
      ]
    },
    {
      "cell_type": "code",
      "metadata": {
        "id": "2RvoZg6uhuc9",
        "colab_type": "code",
        "colab": {}
      },
      "source": [
        "# tensor with autograd enabled\n",
        "\n",
        "z = torch.tensor(3.5, requires_grad=True)"
      ],
      "execution_count": 0,
      "outputs": []
    },
    {
      "cell_type": "code",
      "metadata": {
        "id": "LDIT7j-vGnwL",
        "colab_type": "code",
        "colab": {
          "base_uri": "https://localhost:8080/",
          "height": 34
        },
        "outputId": "513f1733-3b2e-4876-ba07-d151af4de1a5"
      },
      "source": [
        "# make tensor based on z\n",
        "y = (z-1) * (z-2) * (z-3)\n",
        "\n",
        "print(y)"
      ],
      "execution_count": 5,
      "outputs": [
        {
          "output_type": "stream",
          "text": [
            "tensor(1.8750, grad_fn=<MulBackward0>)\n"
          ],
          "name": "stdout"
        }
      ]
    },
    {
      "cell_type": "code",
      "metadata": {
        "id": "AtJt_BBdG7ZQ",
        "colab_type": "code",
        "colab": {}
      },
      "source": [
        "# calculate gradient at x = 3.5\n",
        "\n",
        "y.backward()"
      ],
      "execution_count": 0,
      "outputs": []
    },
    {
      "cell_type": "code",
      "metadata": {
        "id": "nezZVhMGHDfF",
        "colab_type": "code",
        "colab": {
          "base_uri": "https://localhost:8080/",
          "height": 34
        },
        "outputId": "6b19cda5-b1b1-48be-9a67-57766126413b"
      },
      "source": [
        "# show gradient value\n",
        "z.grad"
      ],
      "execution_count": 7,
      "outputs": [
        {
          "output_type": "execute_result",
          "data": {
            "text/plain": [
              "tensor(5.7500)"
            ]
          },
          "metadata": {
            "tags": []
          },
          "execution_count": 7
        }
      ]
    },
    {
      "cell_type": "code",
      "metadata": {
        "id": "_5CWV2VFHH06",
        "colab_type": "code",
        "colab": {}
      },
      "source": [
        "# set up simple graph relating x, y and z\n",
        "\n",
        "x = torch.tensor(3.5, requires_grad=True)\n",
        "y = x * x\n",
        "z = 2*y + 3"
      ],
      "execution_count": 0,
      "outputs": []
    },
    {
      "cell_type": "code",
      "metadata": {
        "id": "mV_vSGCSRf90",
        "colab_type": "code",
        "colab": {}
      },
      "source": [
        "# work out gradients\n",
        "z.backward()"
      ],
      "execution_count": 0,
      "outputs": []
    },
    {
      "cell_type": "code",
      "metadata": {
        "id": "fV4BpJV0RqFQ",
        "colab_type": "code",
        "colab": {
          "base_uri": "https://localhost:8080/",
          "height": 34
        },
        "outputId": "ec35fb60-d53f-4009-d9f2-cca37b1f2d22"
      },
      "source": [
        "# gradient at x = 3.5?\n",
        "x.grad"
      ],
      "execution_count": 10,
      "outputs": [
        {
          "output_type": "execute_result",
          "data": {
            "text/plain": [
              "tensor(14.)"
            ]
          },
          "metadata": {
            "tags": []
          },
          "execution_count": 10
        }
      ]
    },
    {
      "cell_type": "code",
      "metadata": {
        "id": "8na7ncitRtjP",
        "colab_type": "code",
        "colab": {}
      },
      "source": [
        "# set up different computation graph for x, y and z\n",
        "a = torch.tensor(2.0, requires_grad=True)\n",
        "b = torch.tensor(1.0, requires_grad=True)\n",
        "\n",
        "x = 2*a + 3 *b\n",
        "y = 5*a**2 + 3*b**3\n",
        "z = 2*x + 3*y"
      ],
      "execution_count": 0,
      "outputs": []
    },
    {
      "cell_type": "code",
      "metadata": {
        "id": "ZKbExjOGX15A",
        "colab_type": "code",
        "colab": {}
      },
      "source": [
        "# work out gradients\n",
        "z.backward()"
      ],
      "execution_count": 0,
      "outputs": []
    },
    {
      "cell_type": "code",
      "metadata": {
        "id": "shkSfOKqYEL2",
        "colab_type": "code",
        "colab": {
          "base_uri": "https://localhost:8080/",
          "height": 34
        },
        "outputId": "647e906b-5f04-476f-a2b3-ff83b08a8b3e"
      },
      "source": [
        "# gradient when a = 2.0\n",
        "a.grad"
      ],
      "execution_count": 14,
      "outputs": [
        {
          "output_type": "execute_result",
          "data": {
            "text/plain": [
              "tensor(64.)"
            ]
          },
          "metadata": {
            "tags": []
          },
          "execution_count": 14
        }
      ]
    },
    {
      "cell_type": "code",
      "metadata": {
        "id": "8c8nHsSlYM53",
        "colab_type": "code",
        "colab": {}
      },
      "source": [
        ""
      ],
      "execution_count": 0,
      "outputs": []
    }
  ]
}