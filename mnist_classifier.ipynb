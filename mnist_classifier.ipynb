{
  "nbformat": 4,
  "nbformat_minor": 0,
  "metadata": {
    "colab": {
      "name": "mnist_classifier",
      "provenance": [],
      "collapsed_sections": [],
      "authorship_tag": "ABX9TyM9xmRWx9BOoVkzFjDN3XBx",
      "include_colab_link": true
    },
    "kernelspec": {
      "name": "python3",
      "display_name": "Python 3"
    }
  },
  "cells": [
    {
      "cell_type": "markdown",
      "metadata": {
        "id": "view-in-github",
        "colab_type": "text"
      },
      "source": [
        "<a href=\"https://colab.research.google.com/github/Azuremis/make_your_first_gan_with_pytorch/blob/master/mnist_classifier.ipynb\" target=\"_parent\"><img src=\"https://colab.research.google.com/assets/colab-badge.svg\" alt=\"Open In Colab\"/></a>"
      ]
    },
    {
      "cell_type": "code",
      "metadata": {
        "id": "dzvAdCz3Aj_a",
        "colab_type": "code",
        "colab": {}
      },
      "source": [
        "import torch\n",
        "import torch.nn as nn"
      ],
      "execution_count": 0,
      "outputs": []
    },
    {
      "cell_type": "code",
      "metadata": {
        "id": "uTr1Mz6kAqGp",
        "colab_type": "code",
        "colab": {}
      },
      "source": [
        "# neural network class\n",
        "class Classifier(nn.Module):\n",
        "\n",
        "  def __init__(self):\n",
        "    # initialise parent pytorch class\n",
        "    super().__init__()\n",
        "\n",
        "    # setup neural network architecture\n",
        "    self.model = nn.Sequential(\n",
        "        nn.Linear( 784, 200), #  fully connected mapping from 784 nodes to 200 nodes\n",
        "        nn.Sigmoid(),  # apply sigmoid to ouput of 200 nodes\n",
        "        nn.Linear(200, 10),  # maps 200 nodes to 10 nodes\n",
        "        nn.Sigmoid()  # apply sigmoid to output of 10 nodes to get final output\n",
        "    )\n",
        "\n",
        "    # setup loss function\n",
        "    self.loss_function = torch.nn.MSELoss()\n",
        "\n",
        "    # setup optimiser using simple stochastic gradient descent\n",
        "    self.optimiser = torch.optim.SGD(self.parameters(), lr=0.01)\n",
        "\n",
        "    # setup forward method for passing information through network\n",
        "    def forward(self, inputs):\n",
        "      # run the model\n",
        "      return self.model(inputs)\n",
        "\n",
        "    def train(self, inputs, targets):\n",
        "      # calculate nn outputs\n",
        "      outputs = self.forward(inputs)\n",
        "\n",
        "      # calculate loss\n",
        "      loss = self.loss_function(outputs, targets)\n",
        "\n",
        "      # process nn updates\n",
        "      self.optimiser().zero_grad() # set gradients to zero\n",
        "      loss.backward() # calculate gradients via backward pass\n",
        "      self.optimiser.step() # update nn weights using gradients"
      ],
      "execution_count": 0,
      "outputs": []
    },
    {
      "cell_type": "code",
      "metadata": {
        "id": "naTCCxn2MPGM",
        "colab_type": "code",
        "colab": {}
      },
      "source": [
        ""
      ],
      "execution_count": 0,
      "outputs": []
    }
  ]
}